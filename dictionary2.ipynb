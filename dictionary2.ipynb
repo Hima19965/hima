{
  "nbformat": 4,
  "nbformat_minor": 0,
  "metadata": {
    "colab": {
      "provenance": [],
      "authorship_tag": "ABX9TyPqRxoq6Mm5K+VdpYC4BBt/",
      "include_colab_link": true
    },
    "kernelspec": {
      "name": "python3",
      "display_name": "Python 3"
    },
    "language_info": {
      "name": "python"
    }
  },
  "cells": [
    {
      "cell_type": "markdown",
      "metadata": {
        "id": "view-in-github",
        "colab_type": "text"
      },
      "source": [
        "<a href=\"https://colab.research.google.com/github/Hima19965/hima/blob/main/dictionary2.ipynb\" target=\"_parent\"><img src=\"https://colab.research.google.com/assets/colab-badge.svg\" alt=\"Open In Colab\"/></a>"
      ]
    },
    {
      "cell_type": "code",
      "execution_count": null,
      "metadata": {
        "id": "fsPbutTWIRzX"
      },
      "outputs": [],
      "source": [
        "'delete a list of keys from a dictionary'\n",
        "# sample_dict = {\"name\": \"Kelly\",\"age\": 25, \"salary\": 8000, \"city\": \"New york\"}\n",
        "# sample_dict.pop(\"name\")\n",
        "# sample_dict.pop(\"salary\")\n",
        "# print(sample_dict)\n",
        "\n",
        "'count the frequency of each character in a given string using a dictionary'\n",
        "# res='Hello, welcome to 10k coders'\n",
        "# dict={}\n",
        "# for i in res:\n",
        "#     if i not in dict:\n",
        "#         dict[i]=1\n",
        "#     else:\n",
        "#         dict[i]+=1\n",
        "# print(dict)\n",
        "\n",
        "'sum of values'\n",
        "# h={'a':10,'b':20,'c':30}\n",
        "# sum=0\n",
        "# for i in h:\n",
        "#     sum+=h[i]\n",
        "# print(sum)\n",
        "\n",
        "'Create a nested dictionary for student details (name, roll, marks)'\n",
        "# res={'1':{'name':'hima','roll':37,'marks':97},\n",
        "#       '2':{'name':'pranu','roll':39,'marks':96},\n",
        "#       '3':{'name':'lohi','roll':36,'marks':95}}\n",
        "# print(res)\n",
        "\n",
        "'Convert a dictionary to a list of tuples.'\n",
        "# res={'hima':{'telugu':99,'english':99,'maths':98,'science':97},\n",
        "#      'sai':{'telugu':95,'english':96,'maths':97,'science':92}}\n",
        "# for i in res.items():\n",
        "#     print(i)"
      ]
    }
  ]
}