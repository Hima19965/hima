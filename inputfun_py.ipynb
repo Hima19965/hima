{
  "nbformat": 4,
  "nbformat_minor": 0,
  "metadata": {
    "colab": {
      "provenance": [],
      "authorship_tag": "ABX9TyMxmgCs7D46T/ZFXnqeZUSo",
      "include_colab_link": true
    },
    "kernelspec": {
      "name": "python3",
      "display_name": "Python 3"
    },
    "language_info": {
      "name": "python"
    }
  },
  "cells": [
    {
      "cell_type": "markdown",
      "metadata": {
        "id": "view-in-github",
        "colab_type": "text"
      },
      "source": [
        "<a href=\"https://colab.research.google.com/github/Hima19965/hima/blob/main/inputfun_py.ipynb\" target=\"_parent\"><img src=\"https://colab.research.google.com/assets/colab-badge.svg\" alt=\"Open In Colab\"/></a>"
      ]
    },
    {
      "cell_type": "code",
      "execution_count": null,
      "metadata": {
        "id": "sECgyRzHwuWL"
      },
      "outputs": [],
      "source": [
        "'Take two numbers as input from the user, convert them to integers, and print their sum.'\n",
        "# num1=input('enter 1st value:')\n",
        "# num2=input('enter 2nd value:')\n",
        "# num1=int(num1)\n",
        "# num2=int(num2)\n",
        "# sum=num1 + num2\n",
        "# print(sum)\n",
        "\n",
        "'Take two floating-point numbers as input in a single line separated by space and print their product.'\n",
        "# inputs=input(\"enter any 2 floating numbers: \")\n",
        "# n=inputs.split()\n",
        "# num1=float(n[0])\n",
        "# num2=float(n[1])\n",
        "# prod=num1*num2\n",
        "# print(prod)\n",
        "'2 inputs'\n",
        "# input1=float(input(\"enter numbers:\".split()))\n",
        "# input2=float(input(\"enter numbers:\".split()))\n",
        "# prod=input1*input2\n",
        "# print(prod)\n",
        "\n",
        "'Expression Evaluation with eval() Take a mathematical expression from the user as input and print the evaluated result.'\n",
        "# h1=eval(input('enter list of values:'))\n",
        "# h2=eval(input('enter list of values:'))\n",
        "# sum=h1+h2\n",
        "# print(sum)\n",
        "\n",
        "'List Input using eval() Take a list as input using eval() and print the sum of its elements.'\n",
        "# list=eval(input('enter a list of values:'))\n",
        "# total= sum(list)\n",
        "# print('sum is:',total)\n",
        "\n",
        "'Boolean Type Conversion Take an input from the user, convert it to boolean, and print the result.'\n",
        "# b=input('enter a value:')\n",
        "# boolean=bool(b)\n",
        "# print(boolean) #true\n",
        "\n",
        "'Dictionary Input using eval() Take a dictionary as input using eval() and print its keys and values separately.'\n",
        "# d=eval(input('enter a dictionary:'))\n",
        "# print('keys:',d.keys())\n",
        "# print('values:',d.values())\n",
        "\n",
        "'Take a list of integers as input in a single line separated by space and print the maximum and minimum values.'\n",
        "# n=input('enter values:')\n",
        "# n=n.split()\n",
        "# for i in range(len(n)):\n",
        "#     n[i]=int(n[i])\n",
        "# print(\"max:\",max(n))\n",
        "# print('min:', min(n))\n",
        "\n",
        "'take any Python literal as input (string, list, tuple, int, etc.) using eval() and print its type.'\n",
        "# h=eval(input('enter:'))\n",
        "# print(h)\n",
        "# print(type(h))"
      ]
    }
  ]
}