{
  "nbformat": 4,
  "nbformat_minor": 0,
  "metadata": {
    "colab": {
      "provenance": [],
      "authorship_tag": "ABX9TyO5kPSRsHzy9MqCotKNB5m2",
      "include_colab_link": true
    },
    "kernelspec": {
      "name": "python3",
      "display_name": "Python 3"
    },
    "language_info": {
      "name": "python"
    }
  },
  "cells": [
    {
      "cell_type": "markdown",
      "metadata": {
        "id": "view-in-github",
        "colab_type": "text"
      },
      "source": [
        "<a href=\"https://colab.research.google.com/github/Hima19965/hima/blob/main/loopstask.ipynb\" target=\"_parent\"><img src=\"https://colab.research.google.com/assets/colab-badge.svg\" alt=\"Open In Colab\"/></a>"
      ]
    },
    {
      "cell_type": "code",
      "execution_count": null,
      "metadata": {
        "colab": {
          "base_uri": "https://localhost:8080/"
        },
        "id": "CxF4Qdx9ruAT",
        "outputId": "e32ee6f8-83bf-466d-a1f2-645608a8301d"
      },
      "outputs": [
        {
          "output_type": "stream",
          "name": "stdout",
          "text": [
            "Factorial of 5 is 120\n",
            "120\n",
            "Numbers divisible by 7 between 1 and 50: 7\n",
            "Numbers divisible by 5 and 7 between 1 and 50: 0\n",
            "Numbers divisible by 5 and 7 between 1 and 50: 0\n",
            "Numbers divisible by 5 and 7 between 1 and 50: 0\n",
            "Numbers divisible by 5 and 7 between 1 and 50: 0\n",
            "Numbers divisible by 5 and 7 between 1 and 50: 1\n",
            "Numbers divisible by 5 and 7 between 1 and 50: 1\n",
            "Numbers divisible by 5 and 7 between 1 and 50: 2\n",
            "Numbers divisible by 5 and 7 between 1 and 50: 2\n",
            "Numbers divisible by 5 and 7 between 1 and 50: 2\n",
            "Numbers divisible by 5 and 7 between 1 and 50: 3\n",
            "Numbers divisible by 5 and 7 between 1 and 50: 3\n",
            "Numbers divisible by 5 and 7 between 1 and 50: 3\n",
            "Numbers divisible by 5 and 7 between 1 and 50: 3\n",
            "Numbers divisible by 5 and 7 between 1 and 50: 4\n",
            "Numbers divisible by 5 and 7 between 1 and 50: 5\n",
            "Numbers divisible by 5 and 7 between 1 and 50: 5\n",
            "Numbers divisible by 5 and 7 between 1 and 50: 5\n",
            "Numbers divisible by 5 and 7 between 1 and 50: 5\n",
            "Numbers divisible by 5 and 7 between 1 and 50: 5\n",
            "Numbers divisible by 5 and 7 between 1 and 50: 6\n",
            "Numbers divisible by 5 and 7 between 1 and 50: 7\n",
            "Numbers divisible by 5 and 7 between 1 and 50: 7\n",
            "Numbers divisible by 5 and 7 between 1 and 50: 7\n",
            "Numbers divisible by 5 and 7 between 1 and 50: 7\n",
            "Numbers divisible by 5 and 7 between 1 and 50: 8\n",
            "Numbers divisible by 5 and 7 between 1 and 50: 8\n",
            "Numbers divisible by 5 and 7 between 1 and 50: 8\n",
            "Numbers divisible by 5 and 7 between 1 and 50: 9\n",
            "Numbers divisible by 5 and 7 between 1 and 50: 9\n",
            "Numbers divisible by 5 and 7 between 1 and 50: 10\n",
            "Numbers divisible by 5 and 7 between 1 and 50: 10\n",
            "Numbers divisible by 5 and 7 between 1 and 50: 10\n",
            "Numbers divisible by 5 and 7 between 1 and 50: 10\n",
            "Numbers divisible by 5 and 7 between 1 and 50: 10\n",
            "Numbers divisible by 5 and 7 between 1 and 50: 12\n",
            "Numbers divisible by 5 and 7 between 1 and 50: 12\n",
            "Numbers divisible by 5 and 7 between 1 and 50: 12\n",
            "Numbers divisible by 5 and 7 between 1 and 50: 12\n",
            "Numbers divisible by 5 and 7 between 1 and 50: 12\n",
            "Numbers divisible by 5 and 7 between 1 and 50: 13\n",
            "Numbers divisible by 5 and 7 between 1 and 50: 13\n",
            "Numbers divisible by 5 and 7 between 1 and 50: 14\n",
            "Numbers divisible by 5 and 7 between 1 and 50: 14\n",
            "Numbers divisible by 5 and 7 between 1 and 50: 14\n",
            "Numbers divisible by 5 and 7 between 1 and 50: 15\n",
            "Numbers divisible by 5 and 7 between 1 and 50: 15\n",
            "Numbers divisible by 5 and 7 between 1 and 50: 15\n",
            "Numbers divisible by 5 and 7 between 1 and 50: 15\n",
            "Numbers divisible by 5 and 7 between 1 and 50: 16\n",
            "Numbers divisible by 5 and 7 between 1 and 50: 17\n"
          ]
        }
      ],
      "source": [
        "'factorial of num'\n",
        "num = 5\n",
        "factorial = 1\n",
        "i = 1\n",
        "while i <= num:\n",
        "    factorial *= i\n",
        "    i += 1\n",
        "print(\"Factorial of\", num, \"is\", factorial)\n",
        "\n",
        "'# Print the factorial of a number (e.g., 5!) using a for loop'\n",
        "num = 5\n",
        "fact = 1\n",
        "for i in range(1, num + 1):\n",
        "    fact *= i\n",
        "print(fact)\n",
        "\n",
        "'# count how many numbers  b/w 1 to 50 are divisible by 7'\n",
        "count = 0\n",
        "for i in range(1, 51):\n",
        "    if i % 7 == 0:\n",
        "        count += 1\n",
        "\n",
        "print(\"Numbers divisible by 7 between 1 and 50:\", count)\n",
        "\n",
        "'# count how many numbers  b/w 1 to 50 are divisible by 5 and 7'\n",
        "count = 0\n",
        "for i in range(1, 51):\n",
        "    if i % 7 == 0:\n",
        "        count += 1\n",
        "    if i%5==0:\n",
        "        count+=1\n",
        "    print(\"Numbers divisible by 5 and 7 between 1 and 50:\", count)"
      ]
    }
  ]
}